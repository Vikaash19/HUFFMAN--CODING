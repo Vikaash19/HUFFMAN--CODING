{
 "cells": [
  {
   "cell_type": "code",
   "execution_count": 6,
   "id": "5f443c94-b15d-4519-8659-4ad9129720f6",
   "metadata": {},
   "outputs": [],
   "source": [
    "input_string = \"Vikaash K S\"\n",
    "frequency = {}\n",
    "for char in input_string:\n",
    "    if char in frequency:\n",
    "        frequency[char] += 1\n",
    "    else:\n",
    "        frequency[char] = 1"
   ]
  },
  {
   "cell_type": "code",
   "execution_count": 7,
   "id": "2e40feaa-3ed5-443e-a8b5-4196f2eea7f9",
   "metadata": {},
   "outputs": [],
   "source": [
    "nodes = [[char, freq] for char, freq in frequency.items()]"
   ]
  },
  {
   "cell_type": "code",
   "execution_count": 8,
   "id": "0766a298-da12-4590-a5c8-6a4880ee0ac6",
   "metadata": {},
   "outputs": [],
   "source": [
    "while len(nodes) > 1:\n",
    "    nodes = sorted(nodes, key=lambda x: x[1])\n",
    "    left = nodes.pop(0)\n",
    "    right = nodes.pop(0)\n",
    "    new_node = [[left, right], left[1] + right[1]]\n",
    "    nodes.append(new_node)\n",
    "huffman_tree = nodes[0]"
   ]
  },
  {
   "cell_type": "code",
   "execution_count": 9,
   "id": "a5135c3b-d744-4e05-a7a7-329343b60ecc",
   "metadata": {},
   "outputs": [],
   "source": [
    "huffman_codes = {}\n",
    "def generate_codes(tree, code=\"\"):\n",
    "    if isinstance(tree[0], str): \n",
    "        huffman_codes[tree[0]] = code\n",
    "    else:  \n",
    "        generate_codes(tree[0][0], code + \"0\")\n",
    "        generate_codes(tree[0][1], code + \"1\")\n",
    "generate_codes(huffman_tree)"
   ]
  },
  {
   "cell_type": "code",
   "execution_count": 10,
   "id": "0deec5e6-0a3f-449c-b820-75e0d07dd136",
   "metadata": {},
   "outputs": [
    {
     "name": "stdout",
     "output_type": "stream",
     "text": [
      "Character | Huffman Code\n",
      "-------------------------\n",
      "    k    |    000\n",
      "    s    |    001\n",
      "    h    |    010\n",
      "    K    |    011\n",
      "    S    |    100\n",
      "    a    |    101\n",
      "         |    110\n",
      "    V    |    1110\n",
      "    i    |    1111\n"
     ]
    }
   ],
   "source": [
    "print(\"Character | Huffman Code\")\n",
    "print(\"-------------------------\")\n",
    "for char, code in huffman_codes.items():\n",
    "    print(f\"    {char}    |    {code}\")"
   ]
  }
 ],
 "metadata": {
  "kernelspec": {
   "display_name": "Python 3 (ipykernel)",
   "language": "python",
   "name": "python3"
  },
  "language_info": {
   "codemirror_mode": {
    "name": "ipython",
    "version": 3
   },
   "file_extension": ".py",
   "mimetype": "text/x-python",
   "name": "python",
   "nbconvert_exporter": "python",
   "pygments_lexer": "ipython3",
   "version": "3.12.9"
  }
 },
 "nbformat": 4,
 "nbformat_minor": 5
}
